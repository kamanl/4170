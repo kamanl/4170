{
  "nbformat": 4,
  "nbformat_minor": 0,
  "metadata": {
    "colab": {
      "name": "4170.ipynb",
      "provenance": [],
      "collapsed_sections": [],
      "authorship_tag": "ABX9TyPMeYFqj1FpFeHpcZbjraf2",
      "include_colab_link": true
    },
    "kernelspec": {
      "name": "python3",
      "display_name": "Python 3"
    },
    "language_info": {
      "name": "python"
    }
  },
  "cells": [
    {
      "cell_type": "markdown",
      "metadata": {
        "id": "view-in-github",
        "colab_type": "text"
      },
      "source": [
        "<a href=\"https://colab.research.google.com/github/kamanl/4170/blob/main/4170.ipynb\" target=\"_parent\"><img src=\"https://colab.research.google.com/assets/colab-badge.svg\" alt=\"Open In Colab\"/></a>"
      ]
    },
    {
      "cell_type": "code",
      "metadata": {
        "id": "4Pf10r0Tm5RR"
      },
      "source": [
        "import pandas as pd"
      ],
      "execution_count": 1,
      "outputs": []
    },
    {
      "cell_type": "code",
      "metadata": {
        "id": "MXpeq9oImpFE"
      },
      "source": [
        "chocolate = pd.read_csv('chocolate.csv')"
      ],
      "execution_count": 2,
      "outputs": []
    },
    {
      "cell_type": "code",
      "metadata": {
        "colab": {
          "base_uri": "https://localhost:8080/",
          "height": 456
        },
        "id": "WhQ2_FnwnANu",
        "outputId": "bddd3da7-16bc-4720-e6c8-230960b39c25"
      },
      "source": [
        "chocolate"
      ],
      "execution_count": 3,
      "outputs": [
        {
          "output_type": "execute_result",
          "data": {
            "text/html": [
              "<div>\n",
              "<style scoped>\n",
              "    .dataframe tbody tr th:only-of-type {\n",
              "        vertical-align: middle;\n",
              "    }\n",
              "\n",
              "    .dataframe tbody tr th {\n",
              "        vertical-align: top;\n",
              "    }\n",
              "\n",
              "    .dataframe thead th {\n",
              "        text-align: right;\n",
              "    }\n",
              "</style>\n",
              "<table border=\"1\" class=\"dataframe\">\n",
              "  <thead>\n",
              "    <tr style=\"text-align: right;\">\n",
              "      <th></th>\n",
              "      <th>Unnamed: 0</th>\n",
              "      <th>ref</th>\n",
              "      <th>company</th>\n",
              "      <th>company_location</th>\n",
              "      <th>review_date</th>\n",
              "      <th>country_of_bean_origin</th>\n",
              "      <th>specific_bean_origin_or_bar_name</th>\n",
              "      <th>cocoa_percent</th>\n",
              "      <th>rating</th>\n",
              "      <th>counts_of_ingredients</th>\n",
              "      <th>beans</th>\n",
              "      <th>cocoa_butter</th>\n",
              "      <th>vanilla</th>\n",
              "      <th>lecithin</th>\n",
              "      <th>salt</th>\n",
              "      <th>sugar</th>\n",
              "      <th>sweetener_without_sugar</th>\n",
              "      <th>first_taste</th>\n",
              "      <th>second_taste</th>\n",
              "      <th>third_taste</th>\n",
              "      <th>fourth_taste</th>\n",
              "    </tr>\n",
              "  </thead>\n",
              "  <tbody>\n",
              "    <tr>\n",
              "      <th>0</th>\n",
              "      <td>0</td>\n",
              "      <td>2454</td>\n",
              "      <td>5150</td>\n",
              "      <td>U.S.A</td>\n",
              "      <td>2019</td>\n",
              "      <td>Madagascar</td>\n",
              "      <td>Bejofo Estate, batch 1</td>\n",
              "      <td>76.0</td>\n",
              "      <td>3.75</td>\n",
              "      <td>3</td>\n",
              "      <td>have_bean</td>\n",
              "      <td>have_cocoa_butter</td>\n",
              "      <td>have_not_vanila</td>\n",
              "      <td>have_not_lecithin</td>\n",
              "      <td>have_not_salt</td>\n",
              "      <td>have_sugar</td>\n",
              "      <td>have_not_sweetener_without_sugar</td>\n",
              "      <td>cocoa</td>\n",
              "      <td>blackberry</td>\n",
              "      <td>full body</td>\n",
              "      <td>NaN</td>\n",
              "    </tr>\n",
              "    <tr>\n",
              "      <th>1</th>\n",
              "      <td>1</td>\n",
              "      <td>2458</td>\n",
              "      <td>5150</td>\n",
              "      <td>U.S.A</td>\n",
              "      <td>2019</td>\n",
              "      <td>Dominican republic</td>\n",
              "      <td>Zorzal, batch 1</td>\n",
              "      <td>76.0</td>\n",
              "      <td>3.50</td>\n",
              "      <td>3</td>\n",
              "      <td>have_bean</td>\n",
              "      <td>have_cocoa_butter</td>\n",
              "      <td>have_not_vanila</td>\n",
              "      <td>have_not_lecithin</td>\n",
              "      <td>have_not_salt</td>\n",
              "      <td>have_sugar</td>\n",
              "      <td>have_not_sweetener_without_sugar</td>\n",
              "      <td>cocoa</td>\n",
              "      <td>vegetal</td>\n",
              "      <td>savory</td>\n",
              "      <td>NaN</td>\n",
              "    </tr>\n",
              "    <tr>\n",
              "      <th>2</th>\n",
              "      <td>2</td>\n",
              "      <td>2454</td>\n",
              "      <td>5150</td>\n",
              "      <td>U.S.A</td>\n",
              "      <td>2019</td>\n",
              "      <td>Tanzania</td>\n",
              "      <td>Kokoa Kamili, batch 1</td>\n",
              "      <td>76.0</td>\n",
              "      <td>3.25</td>\n",
              "      <td>3</td>\n",
              "      <td>have_bean</td>\n",
              "      <td>have_cocoa_butter</td>\n",
              "      <td>have_not_vanila</td>\n",
              "      <td>have_not_lecithin</td>\n",
              "      <td>have_not_salt</td>\n",
              "      <td>have_sugar</td>\n",
              "      <td>have_not_sweetener_without_sugar</td>\n",
              "      <td>rich cocoa</td>\n",
              "      <td>fatty</td>\n",
              "      <td>bready</td>\n",
              "      <td>NaN</td>\n",
              "    </tr>\n",
              "    <tr>\n",
              "      <th>3</th>\n",
              "      <td>3</td>\n",
              "      <td>797</td>\n",
              "      <td>A. Morin</td>\n",
              "      <td>France</td>\n",
              "      <td>2012</td>\n",
              "      <td>Peru</td>\n",
              "      <td>Peru</td>\n",
              "      <td>63.0</td>\n",
              "      <td>3.75</td>\n",
              "      <td>4</td>\n",
              "      <td>have_bean</td>\n",
              "      <td>have_cocoa_butter</td>\n",
              "      <td>have_not_vanila</td>\n",
              "      <td>have_lecithin</td>\n",
              "      <td>have_not_salt</td>\n",
              "      <td>have_sugar</td>\n",
              "      <td>have_not_sweetener_without_sugar</td>\n",
              "      <td>fruity</td>\n",
              "      <td>melon</td>\n",
              "      <td>roasty</td>\n",
              "      <td>NaN</td>\n",
              "    </tr>\n",
              "    <tr>\n",
              "      <th>4</th>\n",
              "      <td>4</td>\n",
              "      <td>797</td>\n",
              "      <td>A. Morin</td>\n",
              "      <td>France</td>\n",
              "      <td>2012</td>\n",
              "      <td>Bolivia</td>\n",
              "      <td>Bolivia</td>\n",
              "      <td>70.0</td>\n",
              "      <td>3.50</td>\n",
              "      <td>4</td>\n",
              "      <td>have_bean</td>\n",
              "      <td>have_cocoa_butter</td>\n",
              "      <td>have_not_vanila</td>\n",
              "      <td>have_lecithin</td>\n",
              "      <td>have_not_salt</td>\n",
              "      <td>have_sugar</td>\n",
              "      <td>have_not_sweetener_without_sugar</td>\n",
              "      <td>vegetal</td>\n",
              "      <td>nutty</td>\n",
              "      <td>NaN</td>\n",
              "      <td>NaN</td>\n",
              "    </tr>\n",
              "    <tr>\n",
              "      <th>...</th>\n",
              "      <td>...</td>\n",
              "      <td>...</td>\n",
              "      <td>...</td>\n",
              "      <td>...</td>\n",
              "      <td>...</td>\n",
              "      <td>...</td>\n",
              "      <td>...</td>\n",
              "      <td>...</td>\n",
              "      <td>...</td>\n",
              "      <td>...</td>\n",
              "      <td>...</td>\n",
              "      <td>...</td>\n",
              "      <td>...</td>\n",
              "      <td>...</td>\n",
              "      <td>...</td>\n",
              "      <td>...</td>\n",
              "      <td>...</td>\n",
              "      <td>...</td>\n",
              "      <td>...</td>\n",
              "      <td>...</td>\n",
              "      <td>...</td>\n",
              "    </tr>\n",
              "    <tr>\n",
              "      <th>2219</th>\n",
              "      <td>2219</td>\n",
              "      <td>1205</td>\n",
              "      <td>Zotter</td>\n",
              "      <td>Austria</td>\n",
              "      <td>2014</td>\n",
              "      <td>Blend</td>\n",
              "      <td>Raw</td>\n",
              "      <td>80.0</td>\n",
              "      <td>2.75</td>\n",
              "      <td>4</td>\n",
              "      <td>have_bean</td>\n",
              "      <td>have_cocoa_butter</td>\n",
              "      <td>have_not_vanila</td>\n",
              "      <td>have_not_lecithin</td>\n",
              "      <td>have_salt</td>\n",
              "      <td>have_not_sugar</td>\n",
              "      <td>have_sweetener_without_sugar</td>\n",
              "      <td>waxy</td>\n",
              "      <td>cloying</td>\n",
              "      <td>vegetal</td>\n",
              "      <td>NaN</td>\n",
              "    </tr>\n",
              "    <tr>\n",
              "      <th>2220</th>\n",
              "      <td>2220</td>\n",
              "      <td>1996</td>\n",
              "      <td>Zotter</td>\n",
              "      <td>Austria</td>\n",
              "      <td>2017</td>\n",
              "      <td>Colombia</td>\n",
              "      <td>APROCAFA, Acandi</td>\n",
              "      <td>75.0</td>\n",
              "      <td>3.75</td>\n",
              "      <td>3</td>\n",
              "      <td>have_bean</td>\n",
              "      <td>have_cocoa_butter</td>\n",
              "      <td>have_not_vanila</td>\n",
              "      <td>have_not_lecithin</td>\n",
              "      <td>have_not_salt</td>\n",
              "      <td>have_sugar</td>\n",
              "      <td>have_not_sweetener_without_sugar</td>\n",
              "      <td>strong nutty</td>\n",
              "      <td>marshmallow</td>\n",
              "      <td>NaN</td>\n",
              "      <td>NaN</td>\n",
              "    </tr>\n",
              "    <tr>\n",
              "      <th>2221</th>\n",
              "      <td>2221</td>\n",
              "      <td>2170</td>\n",
              "      <td>Zotter</td>\n",
              "      <td>Austria</td>\n",
              "      <td>2018</td>\n",
              "      <td>Belize</td>\n",
              "      <td>Maya Mtn</td>\n",
              "      <td>72.0</td>\n",
              "      <td>3.50</td>\n",
              "      <td>3</td>\n",
              "      <td>have_bean</td>\n",
              "      <td>have_cocoa_butter</td>\n",
              "      <td>have_not_vanila</td>\n",
              "      <td>have_not_lecithin</td>\n",
              "      <td>have_not_salt</td>\n",
              "      <td>have_sugar</td>\n",
              "      <td>have_not_sweetener_without_sugar</td>\n",
              "      <td>muted</td>\n",
              "      <td>roasty</td>\n",
              "      <td>accessible</td>\n",
              "      <td>NaN</td>\n",
              "    </tr>\n",
              "    <tr>\n",
              "      <th>2222</th>\n",
              "      <td>2222</td>\n",
              "      <td>2170</td>\n",
              "      <td>Zotter</td>\n",
              "      <td>Austria</td>\n",
              "      <td>2018</td>\n",
              "      <td>Congo</td>\n",
              "      <td>Mountains of the Moon</td>\n",
              "      <td>70.0</td>\n",
              "      <td>3.25</td>\n",
              "      <td>3</td>\n",
              "      <td>have_bean</td>\n",
              "      <td>have_cocoa_butter</td>\n",
              "      <td>have_not_vanila</td>\n",
              "      <td>have_not_lecithin</td>\n",
              "      <td>have_not_salt</td>\n",
              "      <td>have_sugar</td>\n",
              "      <td>have_not_sweetener_without_sugar</td>\n",
              "      <td>fatty</td>\n",
              "      <td>mild nuts</td>\n",
              "      <td>mild fruit</td>\n",
              "      <td>NaN</td>\n",
              "    </tr>\n",
              "    <tr>\n",
              "      <th>2223</th>\n",
              "      <td>2223</td>\n",
              "      <td>2036</td>\n",
              "      <td>Zotter</td>\n",
              "      <td>Austria</td>\n",
              "      <td>2018</td>\n",
              "      <td>Blend</td>\n",
              "      <td>Dry Aged, 30 yr Anniversary bar</td>\n",
              "      <td>75.0</td>\n",
              "      <td>3.00</td>\n",
              "      <td>3</td>\n",
              "      <td>have_bean</td>\n",
              "      <td>have_cocoa_butter</td>\n",
              "      <td>have_not_vanila</td>\n",
              "      <td>have_not_lecithin</td>\n",
              "      <td>have_not_salt</td>\n",
              "      <td>have_sugar</td>\n",
              "      <td>have_not_sweetener_without_sugar</td>\n",
              "      <td>fatty</td>\n",
              "      <td>earthy</td>\n",
              "      <td>cocoa</td>\n",
              "      <td>NaN</td>\n",
              "    </tr>\n",
              "  </tbody>\n",
              "</table>\n",
              "<p>2224 rows × 21 columns</p>\n",
              "</div>"
            ],
            "text/plain": [
              "      Unnamed: 0   ref   company  ... second_taste  third_taste fourth_taste\n",
              "0              0  2454      5150  ...   blackberry    full body          NaN\n",
              "1              1  2458      5150  ...      vegetal       savory          NaN\n",
              "2              2  2454      5150  ...        fatty       bready          NaN\n",
              "3              3   797  A. Morin  ...        melon       roasty          NaN\n",
              "4              4   797  A. Morin  ...        nutty          NaN          NaN\n",
              "...          ...   ...       ...  ...          ...          ...          ...\n",
              "2219        2219  1205    Zotter  ...      cloying      vegetal          NaN\n",
              "2220        2220  1996    Zotter  ...  marshmallow          NaN          NaN\n",
              "2221        2221  2170    Zotter  ...       roasty   accessible          NaN\n",
              "2222        2222  2170    Zotter  ...    mild nuts   mild fruit          NaN\n",
              "2223        2223  2036    Zotter  ...       earthy        cocoa          NaN\n",
              "\n",
              "[2224 rows x 21 columns]"
            ]
          },
          "metadata": {},
          "execution_count": 3
        }
      ]
    },
    {
      "cell_type": "markdown",
      "metadata": {
        "id": "1jW732sDv5u3"
      },
      "source": [
        "Commonly Used Ingredients"
      ]
    },
    {
      "cell_type": "code",
      "metadata": {
        "id": "4TXRzoREn5hh"
      },
      "source": [
        "def changetobool(s):\n",
        "  return s.apply(lambda x: False if 'not' in x else True)"
      ],
      "execution_count": 4,
      "outputs": []
    },
    {
      "cell_type": "code",
      "metadata": {
        "id": "28z5rVRFoQdm"
      },
      "source": [
        "chocolate['vanilla'] = changetobool(chocolate['vanilla'])"
      ],
      "execution_count": 5,
      "outputs": []
    },
    {
      "cell_type": "code",
      "metadata": {
        "id": "IfC_eXv-pTr1"
      },
      "source": [
        "chocolate['cocoa_butter'] = changetobool(chocolate['cocoa_butter'])"
      ],
      "execution_count": 6,
      "outputs": []
    },
    {
      "cell_type": "code",
      "metadata": {
        "id": "wQLzuRy6pw4i"
      },
      "source": [
        "chocolate['sugar'] = changetobool(chocolate['sugar'])"
      ],
      "execution_count": 7,
      "outputs": []
    },
    {
      "cell_type": "code",
      "metadata": {
        "id": "Nlsjqn7Lp1W2"
      },
      "source": [
        "chocolate['salt'] = changetobool(chocolate['salt'])"
      ],
      "execution_count": 8,
      "outputs": []
    },
    {
      "cell_type": "code",
      "metadata": {
        "id": "CbuM6UTEp3xZ"
      },
      "source": [
        "chocolate['lecithin'] = changetobool(chocolate['lecithin'])"
      ],
      "execution_count": 9,
      "outputs": []
    },
    {
      "cell_type": "code",
      "metadata": {
        "id": "Ggj0ztwaqOrK"
      },
      "source": [
        "import seaborn as sns\n",
        "import matplotlib.pyplot as plt"
      ],
      "execution_count": 10,
      "outputs": []
    },
    {
      "cell_type": "code",
      "metadata": {
        "id": "woam4tBfqXYS"
      },
      "source": [
        "ingredients = chocolate[['cocoa_butter','vanilla','lecithin','salt','sugar']].copy()"
      ],
      "execution_count": 11,
      "outputs": []
    },
    {
      "cell_type": "code",
      "metadata": {
        "colab": {
          "base_uri": "https://localhost:8080/"
        },
        "id": "Bd0HOib0qj64",
        "outputId": "5081d66d-1f60-4574-98e5-f932ee8be22d"
      },
      "source": [
        "ingredientsPercent = ingredients.mean().sort_values(ascending=False) * 100\n",
        "ingredientsPercent"
      ],
      "execution_count": 12,
      "outputs": [
        {
          "output_type": "execute_result",
          "data": {
            "text/plain": [
              "sugar           96.312950\n",
              "cocoa_butter    69.019784\n",
              "lecithin        21.537770\n",
              "vanilla         15.647482\n",
              "salt             1.663669\n",
              "dtype: float64"
            ]
          },
          "metadata": {},
          "execution_count": 12
        }
      ]
    },
    {
      "cell_type": "code",
      "metadata": {
        "colab": {
          "base_uri": "https://localhost:8080/",
          "height": 505
        },
        "id": "hmlUHIDBq0FC",
        "outputId": "43338809-5505-484c-f9a7-4a4aa215c07e"
      },
      "source": [
        "plt.figure(figsize=(13,8)) \n",
        "sns.barplot(x=ingredientsPercent.index,y=ingredientsPercent)\n",
        "plt.title(\"Commonly Used Ingredients\", size=20)\n",
        "plt.ylabel('Percentage of companies',size=12);"
      ],
      "execution_count": 13,
      "outputs": [
        {
          "output_type": "display_data",
          "data": {
            "image/png": "[encoded data removed]",
            "text/plain": [
              "<Figure size 936x576 with 1 Axes>"
            ]
          },
          "metadata": {
            "needs_background": "light"
          }
        }
      ]
    },
    {
      "cell_type": "markdown",
      "metadata": {
        "id": "DX9SQ1di90XM"
      },
      "source": [
        "The Popularity for Different Percent of Cocoa Over Years"
      ]
    },
    {
      "cell_type": "code",
      "metadata": {
        "colab": {
          "base_uri": "https://localhost:8080/",
          "height": 539
        },
        "id": "4fcW3nYn9lll",
        "outputId": "a4dcfca5-c855-4bd2-8e93-9d4d4e3e8889"
      },
      "source": [
        "plt.figure(figsize=(13,8)) \n",
        "sns.lineplot(x=chocolate.review_date, y=chocolate.cocoa_percent)\n",
        "plt.title(\"Percentage of Cocoa in Chocolate From 2006 to 2020\", size=20);\n",
        "plt.xlabel('Year', size=14)\n",
        "plt.ylabel('Percentage of Cocoa', size=14)"
      ],
      "execution_count": 14,
      "outputs": [
        {
          "output_type": "execute_result",
          "data": {
            "text/plain": [
              "Text(0, 0.5, 'Percentage of Cocoa')"
            ]
          },
          "metadata": {},
          "execution_count": 14
        },
        {
          "output_type": "display_data",
          "data": {
            "image/png": "[encoded data removed]",
            "text/plain": [
              "<Figure size 936x576 with 1 Axes>"
            ]
          },
          "metadata": {
            "needs_background": "light"
          }
        }
      ]
    },
    {
      "cell_type": "markdown",
      "metadata": {
        "id": "SQDTvB0gwCOg"
      },
      "source": [
        "Percentage of Cocoa in Chocolate Bar Used by top rated companies"
      ]
    },
    {
      "cell_type": "code",
      "metadata": {
        "colab": {
          "base_uri": "https://localhost:8080/",
          "height": 490
        },
        "id": "VtlEQHTmyNhH",
        "outputId": "a99e4a69-7640-4df4-9012-36748e551e07"
      },
      "source": [
        "topRatedCompanies = chocolate[chocolate.rating == chocolate.rating.max()]\n",
        "topRatedCompanies"
      ],
      "execution_count": 15,
      "outputs": [
        {
          "output_type": "execute_result",
          "data": {
            "text/html": [
              "<div>\n",
              "<style scoped>\n",
              "    .dataframe tbody tr th:only-of-type {\n",
              "        vertical-align: middle;\n",
              "    }\n",
              "\n",
              "    .dataframe tbody tr th {\n",
              "        vertical-align: top;\n",
              "    }\n",
              "\n",
              "    .dataframe thead th {\n",
              "        text-align: right;\n",
              "    }\n",
              "</style>\n",
              "<table border=\"1\" class=\"dataframe\">\n",
              "  <thead>\n",
              "    <tr style=\"text-align: right;\">\n",
              "      <th></th>\n",
              "      <th>Unnamed: 0</th>\n",
              "      <th>ref</th>\n",
              "      <th>company</th>\n",
              "      <th>company_location</th>\n",
              "      <th>review_date</th>\n",
              "      <th>country_of_bean_origin</th>\n",
              "      <th>specific_bean_origin_or_bar_name</th>\n",
              "      <th>cocoa_percent</th>\n",
              "      <th>rating</th>\n",
              "      <th>counts_of_ingredients</th>\n",
              "      <th>beans</th>\n",
              "      <th>cocoa_butter</th>\n",
              "      <th>vanilla</th>\n",
              "      <th>lecithin</th>\n",
              "      <th>salt</th>\n",
              "      <th>sugar</th>\n",
              "      <th>sweetener_without_sugar</th>\n",
              "      <th>first_taste</th>\n",
              "      <th>second_taste</th>\n",
              "      <th>third_taste</th>\n",
              "      <th>fourth_taste</th>\n",
              "    </tr>\n",
              "  </thead>\n",
              "  <tbody>\n",
              "    <tr>\n",
              "      <th>5</th>\n",
              "      <td>5</td>\n",
              "      <td>1015</td>\n",
              "      <td>A. Morin</td>\n",
              "      <td>France</td>\n",
              "      <td>2013</td>\n",
              "      <td>Venezuela</td>\n",
              "      <td>Chuao</td>\n",
              "      <td>70.0</td>\n",
              "      <td>4.0</td>\n",
              "      <td>4</td>\n",
              "      <td>have_bean</td>\n",
              "      <td>True</td>\n",
              "      <td>False</td>\n",
              "      <td>True</td>\n",
              "      <td>False</td>\n",
              "      <td>True</td>\n",
              "      <td>have_not_sweetener_without_sugar</td>\n",
              "      <td>oily</td>\n",
              "      <td>nut</td>\n",
              "      <td>caramel</td>\n",
              "      <td>raspberry</td>\n",
              "    </tr>\n",
              "    <tr>\n",
              "      <th>6</th>\n",
              "      <td>6</td>\n",
              "      <td>1019</td>\n",
              "      <td>A. Morin</td>\n",
              "      <td>France</td>\n",
              "      <td>2013</td>\n",
              "      <td>Peru</td>\n",
              "      <td>Chanchamayo Province</td>\n",
              "      <td>63.0</td>\n",
              "      <td>4.0</td>\n",
              "      <td>3</td>\n",
              "      <td>have_bean</td>\n",
              "      <td>True</td>\n",
              "      <td>False</td>\n",
              "      <td>False</td>\n",
              "      <td>False</td>\n",
              "      <td>True</td>\n",
              "      <td>have_not_sweetener_without_sugar</td>\n",
              "      <td>sweet</td>\n",
              "      <td>cocoa</td>\n",
              "      <td>tangerine</td>\n",
              "      <td>NaN</td>\n",
              "    </tr>\n",
              "    <tr>\n",
              "      <th>16</th>\n",
              "      <td>16</td>\n",
              "      <td>1319</td>\n",
              "      <td>A. Morin</td>\n",
              "      <td>France</td>\n",
              "      <td>2014</td>\n",
              "      <td>Peru</td>\n",
              "      <td>Pablino</td>\n",
              "      <td>70.0</td>\n",
              "      <td>4.0</td>\n",
              "      <td>4</td>\n",
              "      <td>have_bean</td>\n",
              "      <td>True</td>\n",
              "      <td>False</td>\n",
              "      <td>True</td>\n",
              "      <td>False</td>\n",
              "      <td>True</td>\n",
              "      <td>have_not_sweetener_without_sugar</td>\n",
              "      <td>delicate</td>\n",
              "      <td>hazelnut</td>\n",
              "      <td>brownie</td>\n",
              "      <td>NaN</td>\n",
              "    </tr>\n",
              "    <tr>\n",
              "      <th>72</th>\n",
              "      <td>72</td>\n",
              "      <td>470</td>\n",
              "      <td>Amano</td>\n",
              "      <td>U.S.A</td>\n",
              "      <td>2010</td>\n",
              "      <td>Ecuador</td>\n",
              "      <td>Guayas</td>\n",
              "      <td>70.0</td>\n",
              "      <td>4.0</td>\n",
              "      <td>4</td>\n",
              "      <td>have_bean</td>\n",
              "      <td>True</td>\n",
              "      <td>True</td>\n",
              "      <td>False</td>\n",
              "      <td>False</td>\n",
              "      <td>True</td>\n",
              "      <td>have_not_sweetener_without_sugar</td>\n",
              "      <td>strong spice</td>\n",
              "      <td>intense pepper</td>\n",
              "      <td>NaN</td>\n",
              "      <td>NaN</td>\n",
              "    </tr>\n",
              "    <tr>\n",
              "      <th>75</th>\n",
              "      <td>75</td>\n",
              "      <td>725</td>\n",
              "      <td>Amano</td>\n",
              "      <td>U.S.A</td>\n",
              "      <td>2011</td>\n",
              "      <td>Papua new guinea</td>\n",
              "      <td>Morobe</td>\n",
              "      <td>70.0</td>\n",
              "      <td>4.0</td>\n",
              "      <td>4</td>\n",
              "      <td>have_bean</td>\n",
              "      <td>True</td>\n",
              "      <td>True</td>\n",
              "      <td>False</td>\n",
              "      <td>False</td>\n",
              "      <td>True</td>\n",
              "      <td>have_not_sweetener_without_sugar</td>\n",
              "      <td>tart</td>\n",
              "      <td>lemon</td>\n",
              "      <td>smoke</td>\n",
              "      <td>NaN</td>\n",
              "    </tr>\n",
              "    <tr>\n",
              "      <th>...</th>\n",
              "      <td>...</td>\n",
              "      <td>...</td>\n",
              "      <td>...</td>\n",
              "      <td>...</td>\n",
              "      <td>...</td>\n",
              "      <td>...</td>\n",
              "      <td>...</td>\n",
              "      <td>...</td>\n",
              "      <td>...</td>\n",
              "      <td>...</td>\n",
              "      <td>...</td>\n",
              "      <td>...</td>\n",
              "      <td>...</td>\n",
              "      <td>...</td>\n",
              "      <td>...</td>\n",
              "      <td>...</td>\n",
              "      <td>...</td>\n",
              "      <td>...</td>\n",
              "      <td>...</td>\n",
              "      <td>...</td>\n",
              "      <td>...</td>\n",
              "    </tr>\n",
              "    <tr>\n",
              "      <th>2114</th>\n",
              "      <td>2114</td>\n",
              "      <td>757</td>\n",
              "      <td>Valrhona</td>\n",
              "      <td>France</td>\n",
              "      <td>2011</td>\n",
              "      <td>Venezuela</td>\n",
              "      <td>Porcelana, Pedegral</td>\n",
              "      <td>64.0</td>\n",
              "      <td>4.0</td>\n",
              "      <td>5</td>\n",
              "      <td>have_bean</td>\n",
              "      <td>True</td>\n",
              "      <td>True</td>\n",
              "      <td>True</td>\n",
              "      <td>False</td>\n",
              "      <td>True</td>\n",
              "      <td>have_not_sweetener_without_sugar</td>\n",
              "      <td>creamy</td>\n",
              "      <td>honey</td>\n",
              "      <td>peanut butter</td>\n",
              "      <td>NaN</td>\n",
              "    </tr>\n",
              "    <tr>\n",
              "      <th>2116</th>\n",
              "      <td>2116</td>\n",
              "      <td>931</td>\n",
              "      <td>Valrhona</td>\n",
              "      <td>France</td>\n",
              "      <td>2012</td>\n",
              "      <td>Venezuela</td>\n",
              "      <td>Otucan, Grand Cru</td>\n",
              "      <td>69.0</td>\n",
              "      <td>4.0</td>\n",
              "      <td>5</td>\n",
              "      <td>have_bean</td>\n",
              "      <td>True</td>\n",
              "      <td>True</td>\n",
              "      <td>True</td>\n",
              "      <td>False</td>\n",
              "      <td>True</td>\n",
              "      <td>have_not_sweetener_without_sugar</td>\n",
              "      <td>green</td>\n",
              "      <td>unripened fruit</td>\n",
              "      <td>banana</td>\n",
              "      <td>NaN</td>\n",
              "    </tr>\n",
              "    <tr>\n",
              "      <th>2119</th>\n",
              "      <td>2119</td>\n",
              "      <td>1510</td>\n",
              "      <td>Valrhona</td>\n",
              "      <td>France</td>\n",
              "      <td>2015</td>\n",
              "      <td>Peru</td>\n",
              "      <td>Piura, Illanka, Quemazon</td>\n",
              "      <td>63.0</td>\n",
              "      <td>4.0</td>\n",
              "      <td>5</td>\n",
              "      <td>have_bean</td>\n",
              "      <td>True</td>\n",
              "      <td>True</td>\n",
              "      <td>True</td>\n",
              "      <td>False</td>\n",
              "      <td>True</td>\n",
              "      <td>have_not_sweetener_without_sugar</td>\n",
              "      <td>intense</td>\n",
              "      <td>dark berry</td>\n",
              "      <td>grapes</td>\n",
              "      <td>NaN</td>\n",
              "    </tr>\n",
              "    <tr>\n",
              "      <th>2162</th>\n",
              "      <td>2162</td>\n",
              "      <td>1848</td>\n",
              "      <td>Willie's Cacao</td>\n",
              "      <td>U.k.</td>\n",
              "      <td>2016</td>\n",
              "      <td>Colombia</td>\n",
              "      <td>Los Llanos</td>\n",
              "      <td>70.0</td>\n",
              "      <td>4.0</td>\n",
              "      <td>3</td>\n",
              "      <td>have_bean</td>\n",
              "      <td>True</td>\n",
              "      <td>False</td>\n",
              "      <td>False</td>\n",
              "      <td>False</td>\n",
              "      <td>True</td>\n",
              "      <td>have_not_sweetener_without_sugar</td>\n",
              "      <td>rich cocoa</td>\n",
              "      <td>spicy</td>\n",
              "      <td>cinamon</td>\n",
              "      <td>NaN</td>\n",
              "    </tr>\n",
              "    <tr>\n",
              "      <th>2168</th>\n",
              "      <td>2168</td>\n",
              "      <td>741</td>\n",
              "      <td>Woodblock</td>\n",
              "      <td>U.S.A</td>\n",
              "      <td>2011</td>\n",
              "      <td>Venezuela</td>\n",
              "      <td>Ocumare</td>\n",
              "      <td>70.0</td>\n",
              "      <td>4.0</td>\n",
              "      <td>2</td>\n",
              "      <td>have_bean</td>\n",
              "      <td>False</td>\n",
              "      <td>False</td>\n",
              "      <td>False</td>\n",
              "      <td>False</td>\n",
              "      <td>True</td>\n",
              "      <td>have_not_sweetener_without_sugar</td>\n",
              "      <td>nutty</td>\n",
              "      <td>tart</td>\n",
              "      <td>coffee</td>\n",
              "      <td>NaN</td>\n",
              "    </tr>\n",
              "  </tbody>\n",
              "</table>\n",
              "<p>101 rows × 21 columns</p>\n",
              "</div>"
            ],
            "text/plain": [
              "      Unnamed: 0   ref  ...    third_taste fourth_taste\n",
              "5              5  1015  ...        caramel    raspberry\n",
              "6              6  1019  ...      tangerine          NaN\n",
              "16            16  1319  ...        brownie          NaN\n",
              "72            72   470  ...            NaN          NaN\n",
              "75            75   725  ...          smoke          NaN\n",
              "...          ...   ...  ...            ...          ...\n",
              "2114        2114   757  ...  peanut butter          NaN\n",
              "2116        2116   931  ...         banana          NaN\n",
              "2119        2119  1510  ...         grapes          NaN\n",
              "2162        2162  1848  ...        cinamon          NaN\n",
              "2168        2168   741  ...         coffee          NaN\n",
              "\n",
              "[101 rows x 21 columns]"
            ]
          },
          "metadata": {},
          "execution_count": 15
        }
      ]
    },
    {
      "cell_type": "code",
      "metadata": {
        "colab": {
          "base_uri": "https://localhost:8080/",
          "height": 522
        },
        "id": "XOn5D7rpymBy",
        "outputId": "4e385aa5-f668-48ca-e45b-5be10ca7a9f0"
      },
      "source": [
        "plt.figure(figsize=(13,8)) \n",
        "plt.title(\"Percentage of Cocoa in Chocolates\", size=20)\n",
        "plt.xlabel('Percentage of cocoa', size=14)\n",
        "plt.ylabel('Number of companies', size=14)\n",
        "plt.hist(topRatedCompanies.cocoa_percent, bins=[30, 50, 60, 65, 70, 75, 80, 85 ,90, 95, 99], color='Orange');"
      ],
      "execution_count": 16,
      "outputs": [
        {
          "output_type": "display_data",
          "data": {
            "image/png": "[encoded data removed]",
            "text/plain": [
              "<Figure size 936x576 with 1 Axes>"
            ]
          },
          "metadata": {
            "needs_background": "light"
          }
        }
      ]
    },
    {
      "cell_type": "markdown",
      "metadata": {
        "id": "tpwfYySf46f9"
      },
      "source": [
        "Countries of Bean Origin for Top Rated Companies"
      ]
    },
    {
      "cell_type": "code",
      "metadata": {
        "colab": {
          "base_uri": "https://localhost:8080/"
        },
        "id": "yURo4n0G2AWC",
        "outputId": "7454bfa9-66b8-4633-e212-6fb798477737"
      },
      "source": [
        "topBeanCountries = topRatedCompanies.country_of_bean_origin.value_counts()\n",
        "topBeanCountries"
      ],
      "execution_count": 17,
      "outputs": [
        {
          "output_type": "execute_result",
          "data": {
            "text/plain": [
              "Venezuela           18\n",
              "Peru                16\n",
              "Madagascar          10\n",
              "Ecuador              8\n",
              "Blend                7\n",
              "Bolivia              5\n",
              "Colombia             5\n",
              "Brazil               4\n",
              "Papua new guinea     4\n",
              "Mexico               3\n",
              "Guatemala            3\n",
              "Haiti                3\n",
              "Ghana                2\n",
              "Belize               2\n",
              "Costa rica           2\n",
              "Nicaragua            2\n",
              "Sao tome             1\n",
              "Solomon islands      1\n",
              "St. lucia            1\n",
              "Tanzania             1\n",
              "Indonesia            1\n",
              "Jamaica              1\n",
              "Vietnam              1\n",
              "Name: country_of_bean_origin, dtype: int64"
            ]
          },
          "metadata": {},
          "execution_count": 17
        }
      ]
    },
    {
      "cell_type": "code",
      "metadata": {
        "colab": {
          "base_uri": "https://localhost:8080/",
          "height": 629
        },
        "id": "UfcREA0_2rFb",
        "outputId": "1dd60ac8-6fb5-4ef4-8c05-8b9a29394570"
      },
      "source": [
        "plt.figure(figsize=(13,8)) \n",
        "plt.xticks(size=(13),rotation=75)\n",
        "plt.title('Countries of Bean Origin for Top Rated Chocolate Companies', size=20)\n",
        "sns.barplot(x=topBeanCountries.index, y=topBeanCountries, palette=\"Set3\")\n",
        "plt.xlabel(\"Country of Bean Origin\",size=13)\n",
        "plt.ylabel(\"Number of Top Rated Companies\",size=13);"
      ],
      "execution_count": 18,
      "outputs": [
        {
          "output_type": "display_data",
          "data": {
            "image/png": "[encoded data removed]",
            "text/plain": [
              "<Figure size 936x576 with 1 Axes>"
            ]
          },
          "metadata": {
            "needs_background": "light"
          }
        }
      ]
    },
    {
      "cell_type": "markdown",
      "metadata": {
        "id": "0Xe9tUVM5NTP"
      },
      "source": [
        "Top Thirty Companies With Best Rating"
      ]
    },
    {
      "cell_type": "code",
      "metadata": {
        "colab": {
          "base_uri": "https://localhost:8080/",
          "height": 419
        },
        "id": "pf5EsGPe5eJ3",
        "outputId": "de9156c6-2ee0-4e90-b854-2d78a10848cc"
      },
      "source": [
        "averageRating = chocolate.groupby(['company','company_location'], as_index=False)[['rating']].mean()\n",
        "topHundred = averageRating.sort_values('rating', ascending=False).head(100)\n",
        "topHundred"
      ],
      "execution_count": 19,
      "outputs": [
        {
          "output_type": "execute_result",
          "data": {
            "text/html": [
              "<div>\n",
              "<style scoped>\n",
              "    .dataframe tbody tr th:only-of-type {\n",
              "        vertical-align: middle;\n",
              "    }\n",
              "\n",
              "    .dataframe tbody tr th {\n",
              "        vertical-align: top;\n",
              "    }\n",
              "\n",
              "    .dataframe thead th {\n",
              "        text-align: right;\n",
              "    }\n",
              "</style>\n",
              "<table border=\"1\" class=\"dataframe\">\n",
              "  <thead>\n",
              "    <tr style=\"text-align: right;\">\n",
              "      <th></th>\n",
              "      <th>company</th>\n",
              "      <th>company_location</th>\n",
              "      <th>rating</th>\n",
              "    </tr>\n",
              "  </thead>\n",
              "  <tbody>\n",
              "    <tr>\n",
              "      <th>352</th>\n",
              "      <td>Ocelot</td>\n",
              "      <td>Scotland</td>\n",
              "      <td>3.875000</td>\n",
              "    </tr>\n",
              "    <tr>\n",
              "      <th>225</th>\n",
              "      <td>Heirloom Cacao Preservation (Zokoko)</td>\n",
              "      <td>U.S.A</td>\n",
              "      <td>3.875000</td>\n",
              "    </tr>\n",
              "    <tr>\n",
              "      <th>303</th>\n",
              "      <td>Matale</td>\n",
              "      <td>Australia</td>\n",
              "      <td>3.812500</td>\n",
              "    </tr>\n",
              "    <tr>\n",
              "      <th>371</th>\n",
              "      <td>Patric</td>\n",
              "      <td>U.S.A</td>\n",
              "      <td>3.791667</td>\n",
              "    </tr>\n",
              "    <tr>\n",
              "      <th>233</th>\n",
              "      <td>Idilio (Felchlin)</td>\n",
              "      <td>Switzerland</td>\n",
              "      <td>3.775000</td>\n",
              "    </tr>\n",
              "    <tr>\n",
              "      <th>...</th>\n",
              "      <td>...</td>\n",
              "      <td>...</td>\n",
              "      <td>...</td>\n",
              "    </tr>\n",
              "    <tr>\n",
              "      <th>12</th>\n",
              "      <td>Amano</td>\n",
              "      <td>U.S.A</td>\n",
              "      <td>3.416667</td>\n",
              "    </tr>\n",
              "    <tr>\n",
              "      <th>363</th>\n",
              "      <td>Pacari</td>\n",
              "      <td>Ecuador</td>\n",
              "      <td>3.416667</td>\n",
              "    </tr>\n",
              "    <tr>\n",
              "      <th>451</th>\n",
              "      <td>Taste Artisan</td>\n",
              "      <td>U.S.A</td>\n",
              "      <td>3.416667</td>\n",
              "    </tr>\n",
              "    <tr>\n",
              "      <th>38</th>\n",
              "      <td>Bellflower</td>\n",
              "      <td>U.S.A</td>\n",
              "      <td>3.416667</td>\n",
              "    </tr>\n",
              "    <tr>\n",
              "      <th>70</th>\n",
              "      <td>Cacao 70</td>\n",
              "      <td>Canada</td>\n",
              "      <td>3.416667</td>\n",
              "    </tr>\n",
              "  </tbody>\n",
              "</table>\n",
              "<p>100 rows × 3 columns</p>\n",
              "</div>"
            ],
            "text/plain": [
              "                                  company company_location    rating\n",
              "352                                Ocelot         Scotland  3.875000\n",
              "225  Heirloom Cacao Preservation (Zokoko)            U.S.A  3.875000\n",
              "303                                Matale        Australia  3.812500\n",
              "371                                Patric            U.S.A  3.791667\n",
              "233                     Idilio (Felchlin)      Switzerland  3.775000\n",
              "..                                    ...              ...       ...\n",
              "12                                  Amano            U.S.A  3.416667\n",
              "363                                Pacari          Ecuador  3.416667\n",
              "451                         Taste Artisan            U.S.A  3.416667\n",
              "38                             Bellflower            U.S.A  3.416667\n",
              "70                               Cacao 70           Canada  3.416667\n",
              "\n",
              "[100 rows x 3 columns]"
            ]
          },
          "metadata": {},
          "execution_count": 19
        }
      ]
    },
    {
      "cell_type": "code",
      "metadata": {
        "colab": {
          "base_uri": "https://localhost:8080/"
        },
        "id": "v6IzU6WB7ffU",
        "outputId": "f788398c-c35b-4b58-c963-6550cd949688"
      },
      "source": [
        "topCountries= topHundred.company_location.value_counts()\n",
        "topCountries"
      ],
      "execution_count": 20,
      "outputs": [
        {
          "output_type": "execute_result",
          "data": {
            "text/plain": [
              "U.S.A                 44\n",
              "Canada                 8\n",
              "Australia              5\n",
              "Brazil                 4\n",
              "France                 4\n",
              "Netherlands            3\n",
              "Japan                  3\n",
              "Germany                3\n",
              "U.k.                   2\n",
              "Ecuador                2\n",
              "Spain                  2\n",
              "Thailand               1\n",
              "Denmark                1\n",
              "South korea            1\n",
              "Chile                  1\n",
              "Guatemala              1\n",
              "Italy                  1\n",
              "Switzerland            1\n",
              "Colombia               1\n",
              "Philippines            1\n",
              "Czech republic         1\n",
              "Vietnam                1\n",
              "Dominican republic     1\n",
              "Finland                1\n",
              "Argentina              1\n",
              "Madagascar             1\n",
              "Poland                 1\n",
              "Sao tome               1\n",
              "Belgium                1\n",
              "New zealand            1\n",
              "Scotland               1\n",
              "Name: company_location, dtype: int64"
            ]
          },
          "metadata": {},
          "execution_count": 20
        }
      ]
    },
    {
      "cell_type": "code",
      "metadata": {
        "colab": {
          "base_uri": "https://localhost:8080/",
          "height": 636
        },
        "id": "Y7dUDdwi7rT-",
        "outputId": "af0ca57d-c628-4858-8ceb-f0da7a191d71"
      },
      "source": [
        "plt.figure(figsize=(13,8)) \n",
        "plt.xticks(rotation=75,size=13)\n",
        "plt.title('Top 100 Companies with Best Rating in Countries', size=20)\n",
        "sns.barplot(x=topCountries.index, y=topCountries, palette=\"RdYlBu\")\n",
        "plt.xlabel(\"Country\", size=13)\n",
        "plt.ylabel(\"Number of Companies\", size=13);"
      ],
      "execution_count": 21,
      "outputs": [
        {
          "output_type": "display_data",
          "data": {
            "image/png": "[encoded data removed]",
            "text/plain": [
              "<Figure size 936x576 with 1 Axes>"
            ]
          },
          "metadata": {
            "needs_background": "light"
          }
        }
      ]
    }
  ]
}